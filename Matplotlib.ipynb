{
  "nbformat": 4,
  "nbformat_minor": 0,
  "metadata": {
    "colab": {
      "private_outputs": true,
      "provenance": [],
      "authorship_tag": "ABX9TyPkNYZFuPnzNp8ukD9BVED6",
      "include_colab_link": true
    },
    "kernelspec": {
      "name": "python3",
      "display_name": "Python 3"
    },
    "language_info": {
      "name": "python"
    }
  },
  "cells": [
    {
      "cell_type": "markdown",
      "metadata": {
        "id": "view-in-github",
        "colab_type": "text"
      },
      "source": [
        "<a href=\"https://colab.research.google.com/github/yogesh2142/3-days-masterclass/blob/main/Matplotlib.ipynb\" target=\"_parent\"><img src=\"https://colab.research.google.com/assets/colab-badge.svg\" alt=\"Open In Colab\"/></a>"
      ]
    },
    {
      "cell_type": "code",
      "execution_count": null,
      "metadata": {
        "id": "wuA99dYdDIcE"
      },
      "outputs": [],
      "source": [
        "!pip install numpy"
      ]
    },
    {
      "cell_type": "code",
      "source": [
        "!pip install matplotlib"
      ],
      "metadata": {
        "id": "nusDEQmyMsNI"
      },
      "execution_count": null,
      "outputs": []
    },
    {
      "cell_type": "markdown",
      "source": [
        "# What is MATPLOTLIB ?\n",
        "Matplotlib is an open-source plotting library developed by John D. Hunter. Create interactive visualizations in Python with Matplotlib.\n",
        "It is one of the most popular libraries for data visualization in Python."
      ],
      "metadata": {
        "id": "ye9biTHQ2scl"
      }
    },
    {
      "cell_type": "code",
      "source": [
        "import matplotlib # Import the matplotlib library\n",
        "print(matplotlib.__version__) # Now you can access the version\n"
      ],
      "metadata": {
        "id": "Uas7Qt89M0iN"
      },
      "execution_count": null,
      "outputs": []
    },
    {
      "cell_type": "markdown",
      "source": [
        "# Future's of Matplotlib :-\n",
        "1. Free and open-source  python library.\n",
        "2. load and plot the data easily.\n",
        "3. Easily make interestive figures that can Zoom, pan, update.\n",
        "4. Export to various file formats, such as PNG, PDF, SVG, etc.\n",
        "5. Example: Draw maps for data analysis and visualisation with Cartopy.\n",
        "\n",
        "\n",
        "\n"
      ],
      "metadata": {
        "id": "OGIh_NdU31Ba"
      }
    },
    {
      "cell_type": "code",
      "source": [
        "import matplotlib.pyplot as plt\n",
        "import numpy as np\n",
        "x = np.array([1,2,3,4,5])\n",
        "y = np.array([10,20,30,40,50])\n",
        "plt.title(\"Student Performance\", loc=\"center\", color=\"red\", fontsize = 18, style = \"italic\", family =\"sans serif\", fontweight = \"bold\")\n",
        "plt.xlabel(\"Marks\")\n",
        "plt.ylabel(\"freq\")\n",
        "plt.xticks(rotation = 50) #Ticks are the markers and labels that appear along the axes of a plot. They help viewers understand the scale and values of the data being displayed. In your code, you are using plt.xticks() and plt.yticks() to control the appearance of these ticks on the x and y axes, respectively.\n",
        "plt.yticks(rotation = 50)\n",
        "plt.plot(x, y, \"*:r\", marker = \"o\" )\n",
        "plt.grid(True, color=\"pink\", linestyle=\"--\", linewidth=0.7, alpha=0.9)\n",
        "plt.show()"
      ],
      "metadata": {
        "id": "7eXM-ztLDXoK"
      },
      "execution_count": null,
      "outputs": []
    },
    {
      "cell_type": "code",
      "source": [
        "# prompt: line plot parameter\n",
        "import matplotlib # Import the matplotlib library\n",
        "import matplotlib.pyplot as plt\n",
        "import numpy as np\n",
        "\n",
        "# Assuming x and y are defined as in the original code\n",
        "x = np.array([1,2,3,4,5])\n",
        "y = np.array([10,20,30,40,50])\n",
        "\n",
        "# Example of modifying line plot parameters:\n",
        "plt.plot(x, y, linestyle='--', color='green', linewidth=2, marker='s', markersize=8, markerfacecolor='blue', markeredgecolor='red')\n",
        "\n",
        "\n",
        "# Other parameters that can be modified:\n",
        "# - linestyle: '-' (solid), '--' (dashed), '-.' (dash-dot), ':' (dotted)\n",
        "# - color: any valid color name or hex code\n",
        "# - linewidth: thickness of the line\n",
        "# - marker: 'o', 's', '^', 'x', etc.\n",
        "# - markersize: size of the markers\n",
        "# - markerfacecolor: color of the marker's interior\n",
        "# - markeredgecolor: color of the marker's border\n",
        "\n",
        "\n",
        "plt.title(\"Modified Line Plot\")\n",
        "plt.xlabel(\"X-axis\")\n",
        "plt.ylabel(\"Y-axis\")\n",
        "plt.grid(True, linestyle=\"-.\", linewidth=0.7, alpha=0.9)\n",
        "plt.show()"
      ],
      "metadata": {
        "id": "6QUdcgLf5cqJ"
      },
      "execution_count": null,
      "outputs": []
    },
    {
      "cell_type": "code",
      "source": [
        "# prompt: two array in plot\n",
        "\n",
        "import matplotlib.pyplot as plt\n",
        "import numpy as np\n",
        "\n",
        "# Sample data for two arrays\n",
        "x1 = np.array([1, 2, 3, 4, 5])\n",
        "y1 = np.array([10, 20, 30, 40, 50])\n",
        "x2 = np.array([1, 2, 3, 4, 5])\n",
        "y2 = np.array([15, 25, 35, 45, 55])\n",
        "c = np.array([\"red\", \"green\", \"blue\", \"yellow\", \"purple\"])\n",
        "\n",
        "# Create the plot\n",
        "plt.bar(x1, y1, label='Line 1', color = c)\n",
        "\n",
        "# Add labels and title\n",
        "plt.xlabel(\"X-axis\")\n",
        "plt.ylabel(\"Y-axis\")\n",
        "plt.title(\"Two Arrays Plotted\")\n",
        "\n",
        "# Add a legend\n",
        "plt.legend()\n",
        "\n",
        "# Display the plot\n",
        "plt.show()\n",
        "\n",
        "plt.scatter(x2, y2, label='Line 2', color=c)\n",
        "\n",
        "# Add labels and title\n",
        "plt.xlabel(\"X-axis\")\n",
        "plt.ylabel(\"Y-axis\")\n",
        "plt.title(\"Two Arrays Plotted\")\n",
        "\n",
        "# Add a legend\n",
        "plt.legend()\n",
        "\n",
        "# Display the plot\n",
        "plt.show()"
      ],
      "metadata": {
        "id": "mulHvowGMoTJ"
      },
      "execution_count": null,
      "outputs": []
    },
    {
      "cell_type": "code",
      "source": [
        "# prompt: scatters plot\n",
        "\n",
        "import matplotlib.pyplot as plt\n",
        "import numpy as np\n",
        "\n",
        "# Sample data for a scatter plot\n",
        "x = np.array([1, 2, 3, 4, 5])\n",
        "y = np.array([10, 20, 15, 25, 30])\n",
        "\n",
        "# Create the scatter plot\n",
        "plt.scatter(x, y, label='Data Points', color='blue', marker='x', s=140) # s controls marker size\n",
        "\n",
        "# Customize the plot\n",
        "plt.xlabel(\"X-axis\")\n",
        "plt.ylabel(\"Y-axis\")\n",
        "plt.title(\"Scatter Plot Example\")\n",
        "plt.grid(True, linestyle='--')  # Add gridlines\n",
        "plt.legend()    # Display the legend\n",
        "\n",
        "# Show the plot\n",
        "plt.show()"
      ],
      "metadata": {
        "id": "4q-14CSo84Jk"
      },
      "execution_count": null,
      "outputs": []
    },
    {
      "cell_type": "code",
      "source": [
        "# prompt: step data plot\n",
        "\n",
        "import matplotlib.pyplot as plt\n",
        "import numpy as np\n",
        "\n",
        "# Sample step data\n",
        "x = np.array([1, 2, 3, 4, 5])\n",
        "y = np.array([10, 20, 15, 25, 30])\n",
        "\n",
        "# Create the step plot\n",
        "plt.step(x, y, label='Step Data', where='mid', color= \"red\")# where='mid' for steps centered at data points\n",
        "\n",
        "\n",
        "# Customize the plot\n",
        "plt.xlabel(\"X-axis\")\n",
        "plt.ylabel(\"Y-axis\")\n",
        "plt.title(\"Step Plot Example\")\n",
        "plt.grid(True)  # Add gridlines\n",
        "plt.legend()    # Display the legend\n",
        "\n",
        "# Show the plot\n",
        "plt.show()"
      ],
      "metadata": {
        "id": "Ddd8H7WI-I60"
      },
      "execution_count": null,
      "outputs": []
    },
    {
      "cell_type": "code",
      "source": [
        "# prompt: box plot\n",
        "\n",
        "import matplotlib.pyplot as plt\n",
        "import numpy as np\n",
        "\n",
        "# Sample data for a box plot\n",
        "data = [np.random.normal(0, std, 100) for std in range(1, 6)]\n",
        "\n",
        "# Create the box plot\n",
        "plt.boxplot(data, labels=['Data 1', 'Data 2', 'Data 3','Data 4', 'Data 5'])\n",
        "\n",
        "# Customize the plot\n",
        "plt.xlabel(\"Datasets\")\n",
        "plt.ylabel(\"Values\")\n",
        "plt.title(\"Box Plot Example\")\n",
        "\n",
        "# Show the plot\n",
        "plt.show()"
      ],
      "metadata": {
        "id": "YlPyM82f-WK8"
      },
      "execution_count": null,
      "outputs": []
    },
    {
      "cell_type": "code",
      "source": [
        "x = [3,4,5,6,7,8]\n",
        "y = [8,9,5,6,7,8]\n",
        "c = [\"r\",\"g\",\"y\",\"y\",\"orange\",\"r\"]\n",
        "s=[100,200,300,400,500,600]\n",
        "plt.scatter(x,y, color = c, marker=\"*\", sizes = s)\n",
        "plt.title(\"Relationship between two variable\", fontsize = 17, color=\"black\")\n",
        "plt.xlabel(\"X-axis\", fontsize=15, color = \"green\")\n",
        "plt.ylabel(\"Y-axis\", fontsize = 15, color = \"red\")\n",
        "\n",
        "plt.show()"
      ],
      "metadata": {
        "id": "4YkTdE15MJSh"
      },
      "execution_count": null,
      "outputs": []
    },
    {
      "cell_type": "code",
      "source": [
        "# prompt: bar plot\n",
        "\n",
        "import matplotlib.pyplot as plt\n",
        "import numpy as np\n",
        "\n",
        "# Sample data for a bar plot\n",
        "x = np.array([\"c\",\"c++\",\"html\",\"Java\",\"python\",\"R\",\"CSS\"])\n",
        "y = np.array([40,50,60,20,30,10,70])\n",
        "c = np.array([\"red\", \"green\", \"blue\", \"yellow\", \"purple\",\"violet\", \"pink\"])\n",
        "bar = plt.bar(x, y, label='Data', color = c)\n",
        "plt.bar_label(bar)\n",
        "\n",
        "# Create the bar plot\n",
        "plt.bar(x, y, label='Data', color = c)\n",
        "\n",
        "# Add labels and title\n",
        "plt.xlabel(\"Programming Language\", color=\"red\")\n",
        "plt.ylabel(\"Probability Level\", color = \"green\")\n",
        "plt.title(\"Programming Level\")\n",
        "\n",
        "# Add a legend\n",
        "plt.legend()\n",
        "\n",
        "# Display the plot\n",
        "plt.show()"
      ],
      "metadata": {
        "id": "IyXWbypqObSv"
      },
      "execution_count": null,
      "outputs": []
    },
    {
      "cell_type": "code",
      "source": [
        "# prompt: barh plot convert\n",
        "\n",
        "import matplotlib.pyplot as plt\n",
        "import numpy as np\n",
        "\n",
        "# Sample data for a horizontal bar plot\n",
        "x = np.array([\"c\",\"c++\",\"html\",\"Java\",\"python\",\"R\",\"CSS\"])\n",
        "y = np.array([40,50,60,20,30,10,70])\n",
        "c = np.array([\"red\", \"green\", \"blue\", \"yellow\", \"purple\",\"violet\", \"pink\"])\n",
        "bar = plt.barh(x, y, label='Data', color = c)\n",
        "plt.bar_label(bar)\n",
        "\n",
        "# Create the horizontal bar plot\n",
        "plt.barh(x, y, label='Data', color=c)\n",
        "\n",
        "# Add labels and title\n",
        "plt.xlabel(\"Probability Level\", color=\"green\")\n",
        "plt.ylabel(\"Programming Language\", color=\"red\")\n",
        "plt.title(\"Programming Level (Horizontal Bar)\")\n",
        "\n",
        "# Display the plot\n",
        "plt.show()"
      ],
      "metadata": {
        "id": "3CB8aBCiVLdJ"
      },
      "execution_count": null,
      "outputs": []
    },
    {
      "cell_type": "code",
      "source": [
        "import matplotlib.pyplot as plt\n",
        "import numpy as np"
      ],
      "metadata": {
        "id": "MbIhX4OtZIvu"
      },
      "execution_count": null,
      "outputs": []
    },
    {
      "cell_type": "code",
      "source": [
        "# prompt: pie chat plot in student name and marks\n",
        "\n",
        "import matplotlib.pyplot as plt\n",
        "\n",
        "def pie_chart_student_marks(student_names, marks):\n",
        "    \"\"\"\n",
        "    Generates a pie chart showing the distribution of marks among students.\n",
        "\n",
        "    Args:\n",
        "        student_names: A list of student names.\n",
        "        marks: A list of corresponding marks for each student.\n",
        "    \"\"\"\n",
        "\n",
        "    if len(student_names) != len(marks):\n",
        "        raise ValueError(\"The number of student names and marks must be equal.\")\n",
        "\n",
        "    plt.figure(figsize=(8, 8))  # Adjust figure size as needed\n",
        "    plt.pie(marks, labels=student_names, autopct='%1.1f%%', startangle=90)\n",
        "    plt.title(\"Students Marks Distribution\")\n",
        "    plt.axis('equal')  # Equal aspect ratio ensures that pie is drawn as a circle.\n",
        "    plt.show()\n",
        "\n",
        "# Example usage (replace with your actual data)\n",
        "student_names = [\"Alice\", \"Bob\", \"Charlie\", \"David\"]\n",
        "marks = [85, 70, 92, 65]\n",
        "\n",
        "pie_chart_student_marks(student_names, marks)"
      ],
      "metadata": {
        "id": "GkB7uRI3Cp9B"
      },
      "execution_count": null,
      "outputs": []
    },
    {
      "cell_type": "code",
      "source": [
        "student_names = [\"Alice\", \"Bob\", \"Charlie\", \"David\"]\n",
        "marks = [80, 70, 90, 60]\n",
        "c = [\"r\",\"g\",\"y\",\"b\"]\n",
        "\n",
        "plt.pie(marks, labels = student_names, colors=c, autopct='%1.0f%%', startangle=90, explode=(0.2,0,0,0), radius=4, shadow=True, wedgeprops={\"edgecolor\":\"orange\"}, textprops = {\"fontsize\":17, \"color\":\"black\"})\n",
        "plt.title(\"Students Marks Distribution\")\n",
        "plt.axis('equal')\n",
        "plt.show()"
      ],
      "metadata": {
        "id": "U8HMBweRDIx7"
      },
      "execution_count": null,
      "outputs": []
    }
  ]
}
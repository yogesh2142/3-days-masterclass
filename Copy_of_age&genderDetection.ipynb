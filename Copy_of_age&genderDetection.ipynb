{
  "nbformat": 4,
  "nbformat_minor": 0,
  "metadata": {
    "colab": {
      "provenance": [],
      "include_colab_link": true
    },
    "kernelspec": {
      "name": "python3",
      "display_name": "Python 3"
    }
  },
  "cells": [
    {
      "cell_type": "markdown",
      "metadata": {
        "id": "view-in-github",
        "colab_type": "text"
      },
      "source": [
        "<a href=\"https://colab.research.google.com/github/yogesh2142/3-days-masterclass/blob/main/Copy_of_age%26genderDetection.ipynb\" target=\"_parent\"><img src=\"https://colab.research.google.com/assets/colab-badge.svg\" alt=\"Open In Colab\"/></a>"
      ]
    },
    {
      "cell_type": "markdown",
      "metadata": {
        "id": "cw60KN2ITBR0"
      },
      "source": [
        "# **SUBSCRIBE to the [channel](https://www.youtube.com/user/19daredevill?sub_confirmation=1) to learn cool things**"
      ]
    },
    {
      "cell_type": "markdown",
      "metadata": {
        "id": "RbyVh1kATDIR"
      },
      "source": [
        "![Subscribe](https://media3.giphy.com/media/XGILFirobxDWglaUyj/giphy.gif?cid=ecf05e474afdd7ef5fe2c0fa50f87822d705fbb2613a3b5c&rid=giphy.gif)"
      ]
    },
    {
      "cell_type": "code",
      "metadata": {
        "id": "4Miwi6aYOsN8",
        "colab": {
          "base_uri": "https://localhost:8080/"
        },
        "outputId": "f6fe3101-e99d-4e9f-c5e4-a701c13f5d90"
      },
      "source": [
        "!git clone https://github.com/misbah4064/age_and_gender_detection.git\n",
        "%cd age_and_gender_detection"
      ],
      "execution_count": null,
      "outputs": [
        {
          "output_type": "stream",
          "name": "stdout",
          "text": [
            "Cloning into 'age_and_gender_detection'...\n",
            "remote: Enumerating objects: 11, done.\u001b[K\n",
            "remote: Counting objects: 100% (2/2), done.\u001b[K\n",
            "remote: Compressing objects: 100% (2/2), done.\u001b[K\n",
            "remote: Total 11 (delta 1), reused 0 (delta 0), pack-reused 9 (from 1)\u001b[K\n",
            "Receiving objects: 100% (11/11), 1.33 MiB | 11.07 MiB/s, done.\n",
            "Resolving deltas: 100% (1/1), done.\n",
            "/content/age_and_gender_detection\n"
          ]
        }
      ]
    },
    {
      "cell_type": "code",
      "metadata": {
        "id": "RuOlEDp7O4CK",
        "colab": {
          "base_uri": "https://localhost:8080/"
        },
        "outputId": "682ac8c1-fa8b-444f-c9b9-ac67e8b700f2"
      },
      "source": [
        "# Downloading pretrained data and unzipping it\n",
        "!gdown https://drive.google.com/uc?id=1_aDScOvBeBLCn_iv0oxSO8X1ySQpSbIS\n",
        "# https://drive.google.com/uc?id=1_aDScOvBeBLCn_iv0oxSO8X1ySQpSbIS\n",
        "!unzip modelNweight.zip"
      ],
      "execution_count": null,
      "outputs": [
        {
          "output_type": "stream",
          "name": "stdout",
          "text": [
            "Downloading...\n",
            "From (original): https://drive.google.com/uc?id=1_aDScOvBeBLCn_iv0oxSO8X1ySQpSbIS\n",
            "From (redirected): https://drive.google.com/uc?id=1_aDScOvBeBLCn_iv0oxSO8X1ySQpSbIS&confirm=t&uuid=64d85d67-73e2-44f9-b2f9-a0c05f238e57\n",
            "To: /content/age_and_gender_detection/modelNweight.zip\n",
            "100% 86.2M/86.2M [00:01<00:00, 54.4MB/s]\n",
            "Archive:  modelNweight.zip\n",
            "   creating: modelNweight/\n",
            "  inflating: modelNweight/age_deploy.prototxt  \n",
            "  inflating: modelNweight/age_net.caffemodel  \n",
            "  inflating: modelNweight/gender_deploy.prototxt  \n",
            "  inflating: modelNweight/gender_net.caffemodel  \n",
            "  inflating: modelNweight/opencv_face_detector.pbtxt  \n",
            "  inflating: modelNweight/opencv_face_detector_uint8.pb  \n"
          ]
        }
      ]
    },
    {
      "cell_type": "code",
      "metadata": {
        "id": "5wb2AHF4-zDa"
      },
      "source": [
        "# Import required modules\n",
        "import cv2 as cv\n",
        "import math\n",
        "import time\n",
        "from google.colab.patches import cv2_imshow\n",
        "\n",
        "def getFaceBox(net, frame, conf_threshold=0.7):\n",
        "    frameOpencvDnn = frame.copy()\n",
        "    frameHeight = frameOpencvDnn.shape[0]\n",
        "    frameWidth = frameOpencvDnn.shape[1]\n",
        "    blob = cv.dnn.blobFromImage(frameOpencvDnn, 1.0, (300, 300), [104, 117, 123], True, False)\n",
        "\n",
        "    net.setInput(blob)\n",
        "    detections = net.forward()\n",
        "    bboxes = []\n",
        "    for i in range(detections.shape[2]):\n",
        "        confidence = detections[0, 0, i, 2]\n",
        "        if confidence > conf_threshold:\n",
        "            x1 = int(detections[0, 0, i, 3] * frameWidth)\n",
        "            y1 = int(detections[0, 0, i, 4] * frameHeight)\n",
        "            x2 = int(detections[0, 0, i, 5] * frameWidth)\n",
        "            y2 = int(detections[0, 0, i, 6] * frameHeight)\n",
        "            bboxes.append([x1, y1, x2, y2])\n",
        "            cv.rectangle(frameOpencvDnn, (x1, y1), (x2, y2), (0, 255, 0), int(round(frameHeight/150)), 8)\n",
        "    return frameOpencvDnn, bboxes\n",
        "\n",
        "faceProto = \"modelNweight/opencv_face_detector.pbtxt\"\n",
        "faceModel = \"modelNweight/opencv_face_detector_uint8.pb\"\n",
        "\n",
        "ageProto = \"modelNweight/age_deploy.prototxt\"\n",
        "ageModel = \"modelNweight/age_net.caffemodel\"\n",
        "\n",
        "genderProto = \"modelNweight/gender_deploy.prototxt\"\n",
        "genderModel = \"modelNweight/gender_net.caffemodel\"\n",
        "\n",
        "MODEL_MEAN_VALUES = (78.4263377603, 87.7689143744, 114.895847746)\n",
        "ageList = ['(0-2)', '(4-6)', '(8-12)', '(15-20)', '(25-32)', '(38-43)', '(48-53)', '(60-100)']\n",
        "genderList = ['Male', 'Female']\n",
        "\n",
        "# Load network\n",
        "ageNet = cv.dnn.readNet(ageModel, ageProto)\n",
        "genderNet = cv.dnn.readNet(genderModel, genderProto)\n",
        "faceNet = cv.dnn.readNet(faceModel, faceProto)\n",
        "\n",
        "padding = 20\n",
        "\n",
        "def age_gender_detector(frame):\n",
        "    # Read frame\n",
        "    t = time.time()\n",
        "    frameFace, bboxes = getFaceBox(faceNet, frame)\n",
        "    for bbox in bboxes:\n",
        "        # print(bbox)\n",
        "        face = frame[max(0,bbox[1]-padding):min(bbox[3]+padding,frame.shape[0]-1),max(0,bbox[0]-padding):min(bbox[2]+padding, frame.shape[1]-1)]\n",
        "\n",
        "        blob = cv.dnn.blobFromImage(face, 1.0, (227, 227), MODEL_MEAN_VALUES, swapRB=False)\n",
        "        genderNet.setInput(blob)\n",
        "        genderPreds = genderNet.forward()\n",
        "        gender = genderList[genderPreds[0].argmax()]\n",
        "        ageNet.setInput(blob)\n",
        "        agePreds = ageNet.forward()\n",
        "        age = ageList[agePreds[0].argmax()]\n",
        "\n",
        "        label = \"{},{}\".format(gender, age)\n",
        "        cv.putText(frameFace, label, (bbox[0], bbox[1]-10), cv.FONT_HERSHEY_SIMPLEX, 0.8, (0, 255, 255), 2, cv.LINE_AA)\n",
        "    return frameFace"
      ],
      "execution_count": null,
      "outputs": []
    },
    {
      "cell_type": "code",
      "metadata": {
        "id": "16V7AYthMhzg"
      },
      "source": [
        "input = cv.imread(\"image.jpg\")\n",
        "output = age_gender_detector(input)\n",
        "cv2_imshow(output)"
      ],
      "execution_count": null,
      "outputs": []
    },
    {
      "cell_type": "code",
      "metadata": {
        "id": "KNKEnI1eUHtT"
      },
      "source": [
        "input = cv.imread(\"image1.jpg\")\n",
        "output = age_gender_detector(input)\n",
        "cv2_imshow(output)"
      ],
      "execution_count": null,
      "outputs": []
    },
    {
      "cell_type": "code",
      "metadata": {
        "id": "UmjTUWWzUKPA"
      },
      "source": [
        "input = cv.imread(\"image2.jpg\")\n",
        "output = age_gender_detector(input)\n",
        "cv2_imshow(output)"
      ],
      "execution_count": null,
      "outputs": []
    },
    {
      "cell_type": "code",
      "metadata": {
        "id": "MsKWhHITV68A"
      },
      "source": [
        "import cv2\n",
        "cap = cv2.VideoCapture('video.mp4')\n",
        "ret, frame = cap.read()\n",
        "frame_height, frame_width, _ = frame.shape\n",
        "out = cv2.VideoWriter('output.avi',cv2.VideoWriter_fourcc('M','J','P','G'), 10, (frame_width,frame_height))\n",
        "print(\"Processing Video...\")\n",
        "while cap.isOpened():\n",
        "  ret, frame = cap.read()\n",
        "  if not ret:\n",
        "    out.release()\n",
        "    break\n",
        "  output = age_gender_detector(frame)\n",
        "  out.write(output)\n",
        "out.release()\n",
        "print(\"Done processing video\")"
      ],
      "execution_count": null,
      "outputs": []
    }
  ]
}